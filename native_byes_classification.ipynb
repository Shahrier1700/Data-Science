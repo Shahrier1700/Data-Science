{
 "cells": [
  {
   "cell_type": "code",
   "execution_count": 1,
   "id": "1350294d",
   "metadata": {},
   "outputs": [],
   "source": [
    "import pandas as pd\n",
    "import matplotlib.pyplot as plt\n",
    "import numpy as np\n",
    "\n",
    "from sklearn.naive_bayes import MultinomialNB\n",
    "from sklearn import svm\n",
    "from sklearn.naive_bayes import GaussianNB\n",
    "\n",
    "from sklearn.metrics import precision_score\n",
    "from sklearn.metrics import recall_score\n",
    "from sklearn.metrics import f1_score\n",
    "\n",
    "\n",
    "from sklearn.metrics import confusion_matrix\n",
    "from sklearn.metrics import classification_report"
   ]
  },
  {
   "cell_type": "code",
   "execution_count": 2,
   "id": "7f617dc3",
   "metadata": {},
   "outputs": [
    {
     "data": {
      "text/plain": [
       "(8835, 490)"
      ]
     },
     "execution_count": 2,
     "metadata": {},
     "output_type": "execute_result"
    }
   ],
   "source": [
    "dataset = pd.read_csv('dis_sym_dataset_comb.csv')\n",
    "dataset.shape"
   ]
  },
  {
   "cell_type": "code",
   "execution_count": 3,
   "id": "2abff3c3",
   "metadata": {},
   "outputs": [
    {
     "data": {
      "text/html": [
       "<div>\n",
       "<style scoped>\n",
       "    .dataframe tbody tr th:only-of-type {\n",
       "        vertical-align: middle;\n",
       "    }\n",
       "\n",
       "    .dataframe tbody tr th {\n",
       "        vertical-align: top;\n",
       "    }\n",
       "\n",
       "    .dataframe thead th {\n",
       "        text-align: right;\n",
       "    }\n",
       "</style>\n",
       "<table border=\"1\" class=\"dataframe\">\n",
       "  <thead>\n",
       "    <tr style=\"text-align: right;\">\n",
       "      <th></th>\n",
       "      <th>label_dis</th>\n",
       "      <th>abdominal cramp</th>\n",
       "      <th>abdominal distention</th>\n",
       "      <th>abnormal behavior</th>\n",
       "      <th>abnormal bleeding</th>\n",
       "      <th>abnormal sensation</th>\n",
       "      <th>abnormally frequent</th>\n",
       "      <th>abscess</th>\n",
       "      <th>aching</th>\n",
       "      <th>acne</th>\n",
       "      <th>...</th>\n",
       "      <th>wet</th>\n",
       "      <th>wheezing</th>\n",
       "      <th>white patch vaginal discharge</th>\n",
       "      <th>widespread pain</th>\n",
       "      <th>withdrawal occurring stopping</th>\n",
       "      <th>worrying</th>\n",
       "      <th>yellow skin</th>\n",
       "      <th>yellowish coloration skin white eye</th>\n",
       "      <th>yellowish skin</th>\n",
       "      <th>yellowish skin crust</th>\n",
       "    </tr>\n",
       "  </thead>\n",
       "  <tbody>\n",
       "    <tr>\n",
       "      <th>0</th>\n",
       "      <td>Abscess</td>\n",
       "      <td>0</td>\n",
       "      <td>0</td>\n",
       "      <td>0</td>\n",
       "      <td>0</td>\n",
       "      <td>0</td>\n",
       "      <td>0</td>\n",
       "      <td>0</td>\n",
       "      <td>0</td>\n",
       "      <td>0</td>\n",
       "      <td>...</td>\n",
       "      <td>0</td>\n",
       "      <td>0</td>\n",
       "      <td>0</td>\n",
       "      <td>0</td>\n",
       "      <td>0</td>\n",
       "      <td>0</td>\n",
       "      <td>0</td>\n",
       "      <td>0</td>\n",
       "      <td>0</td>\n",
       "      <td>0</td>\n",
       "    </tr>\n",
       "    <tr>\n",
       "      <th>1</th>\n",
       "      <td>Abscess</td>\n",
       "      <td>0</td>\n",
       "      <td>0</td>\n",
       "      <td>0</td>\n",
       "      <td>0</td>\n",
       "      <td>0</td>\n",
       "      <td>0</td>\n",
       "      <td>0</td>\n",
       "      <td>0</td>\n",
       "      <td>0</td>\n",
       "      <td>...</td>\n",
       "      <td>0</td>\n",
       "      <td>0</td>\n",
       "      <td>0</td>\n",
       "      <td>0</td>\n",
       "      <td>0</td>\n",
       "      <td>0</td>\n",
       "      <td>0</td>\n",
       "      <td>0</td>\n",
       "      <td>0</td>\n",
       "      <td>0</td>\n",
       "    </tr>\n",
       "    <tr>\n",
       "      <th>2</th>\n",
       "      <td>Abscess</td>\n",
       "      <td>0</td>\n",
       "      <td>0</td>\n",
       "      <td>0</td>\n",
       "      <td>0</td>\n",
       "      <td>0</td>\n",
       "      <td>0</td>\n",
       "      <td>0</td>\n",
       "      <td>0</td>\n",
       "      <td>0</td>\n",
       "      <td>...</td>\n",
       "      <td>0</td>\n",
       "      <td>0</td>\n",
       "      <td>0</td>\n",
       "      <td>0</td>\n",
       "      <td>0</td>\n",
       "      <td>0</td>\n",
       "      <td>0</td>\n",
       "      <td>0</td>\n",
       "      <td>0</td>\n",
       "      <td>0</td>\n",
       "    </tr>\n",
       "    <tr>\n",
       "      <th>3</th>\n",
       "      <td>Abscess</td>\n",
       "      <td>0</td>\n",
       "      <td>0</td>\n",
       "      <td>0</td>\n",
       "      <td>0</td>\n",
       "      <td>0</td>\n",
       "      <td>0</td>\n",
       "      <td>0</td>\n",
       "      <td>0</td>\n",
       "      <td>0</td>\n",
       "      <td>...</td>\n",
       "      <td>0</td>\n",
       "      <td>0</td>\n",
       "      <td>0</td>\n",
       "      <td>0</td>\n",
       "      <td>0</td>\n",
       "      <td>0</td>\n",
       "      <td>0</td>\n",
       "      <td>0</td>\n",
       "      <td>0</td>\n",
       "      <td>0</td>\n",
       "    </tr>\n",
       "    <tr>\n",
       "      <th>4</th>\n",
       "      <td>Abscess</td>\n",
       "      <td>0</td>\n",
       "      <td>0</td>\n",
       "      <td>0</td>\n",
       "      <td>0</td>\n",
       "      <td>0</td>\n",
       "      <td>0</td>\n",
       "      <td>0</td>\n",
       "      <td>0</td>\n",
       "      <td>0</td>\n",
       "      <td>...</td>\n",
       "      <td>0</td>\n",
       "      <td>0</td>\n",
       "      <td>0</td>\n",
       "      <td>0</td>\n",
       "      <td>0</td>\n",
       "      <td>0</td>\n",
       "      <td>0</td>\n",
       "      <td>0</td>\n",
       "      <td>0</td>\n",
       "      <td>0</td>\n",
       "    </tr>\n",
       "  </tbody>\n",
       "</table>\n",
       "<p>5 rows × 490 columns</p>\n",
       "</div>"
      ],
      "text/plain": [
       "  label_dis  abdominal cramp  abdominal distention  abnormal behavior  \\\n",
       "0   Abscess                0                     0                  0   \n",
       "1   Abscess                0                     0                  0   \n",
       "2   Abscess                0                     0                  0   \n",
       "3   Abscess                0                     0                  0   \n",
       "4   Abscess                0                     0                  0   \n",
       "\n",
       "   abnormal bleeding  abnormal sensation  abnormally frequent  abscess  \\\n",
       "0                  0                   0                    0        0   \n",
       "1                  0                   0                    0        0   \n",
       "2                  0                   0                    0        0   \n",
       "3                  0                   0                    0        0   \n",
       "4                  0                   0                    0        0   \n",
       "\n",
       "   aching  acne  ...  wet  wheezing  white patch vaginal discharge  \\\n",
       "0       0     0  ...    0         0                              0   \n",
       "1       0     0  ...    0         0                              0   \n",
       "2       0     0  ...    0         0                              0   \n",
       "3       0     0  ...    0         0                              0   \n",
       "4       0     0  ...    0         0                              0   \n",
       "\n",
       "   widespread pain  withdrawal occurring stopping  worrying  yellow skin  \\\n",
       "0                0                              0         0            0   \n",
       "1                0                              0         0            0   \n",
       "2                0                              0         0            0   \n",
       "3                0                              0         0            0   \n",
       "4                0                              0         0            0   \n",
       "\n",
       "   yellowish coloration skin white eye  yellowish skin  yellowish skin crust  \n",
       "0                                    0               0                     0  \n",
       "1                                    0               0                     0  \n",
       "2                                    0               0                     0  \n",
       "3                                    0               0                     0  \n",
       "4                                    0               0                     0  \n",
       "\n",
       "[5 rows x 490 columns]"
      ]
     },
     "execution_count": 3,
     "metadata": {},
     "output_type": "execute_result"
    }
   ],
   "source": [
    "dataset.head()"
   ]
  },
  {
   "cell_type": "code",
   "execution_count": 4,
   "id": "0014c952",
   "metadata": {},
   "outputs": [
    {
     "data": {
      "text/plain": [
       "label_dis                              0\n",
       "abdominal cramp                        0\n",
       "abdominal distention                   0\n",
       "abnormal behavior                      0\n",
       "abnormal bleeding                      0\n",
       "                                      ..\n",
       "worrying                               0\n",
       "yellow skin                            0\n",
       "yellowish coloration skin white eye    0\n",
       "yellowish skin                         0\n",
       "yellowish skin crust                   0\n",
       "Length: 490, dtype: int64"
      ]
     },
     "execution_count": 4,
     "metadata": {},
     "output_type": "execute_result"
    }
   ],
   "source": [
    "dataset.isnull().sum()"
   ]
  },
  {
   "cell_type": "code",
   "execution_count": 5,
   "id": "2f2c3c72",
   "metadata": {},
   "outputs": [
    {
     "data": {
      "text/plain": [
       "(8835, 490)"
      ]
     },
     "execution_count": 5,
     "metadata": {},
     "output_type": "execute_result"
    }
   ],
   "source": [
    "dataset = dataset.dropna()\n",
    "dataset.shape"
   ]
  },
  {
   "cell_type": "code",
   "execution_count": 6,
   "id": "7f1a5224",
   "metadata": {},
   "outputs": [
    {
     "data": {
      "text/plain": [
       "Myocardial Infarction (Heart Attack)    2047\n",
       "Polycystic ovary syndrome (PCOS)         511\n",
       "Anthrax                                  511\n",
       "Porphyria                                255\n",
       "Rabies                                   255\n",
       "                                        ... \n",
       "Neoplasm                                   1\n",
       "Burns                                      1\n",
       "Fibroids                                   1\n",
       "Taeniasis/cysticercosis                    1\n",
       "Hypotonia                                  1\n",
       "Name: label_dis, Length: 261, dtype: int64"
      ]
     },
     "execution_count": 6,
     "metadata": {},
     "output_type": "execute_result"
    }
   ],
   "source": [
    "dataset.label_dis.value_counts()"
   ]
  },
  {
   "cell_type": "code",
   "execution_count": 7,
   "id": "52c1e7b3",
   "metadata": {},
   "outputs": [],
   "source": [
    "df_train = dataset[(dataset['label_dis']=='Myocardial Infarction (Heart Attack)') | (dataset['label_dis']=='Polycystic ovary syndrome (PCOS)') | (dataset['label_dis']=='Anthrax')|(dataset['label_dis']=='Porphyria')]"
   ]
  },
  {
   "cell_type": "code",
   "execution_count": 8,
   "id": "569c20c2",
   "metadata": {},
   "outputs": [
    {
     "data": {
      "text/plain": [
       "(3324, 490)"
      ]
     },
     "execution_count": 8,
     "metadata": {},
     "output_type": "execute_result"
    }
   ],
   "source": [
    "df_train.shape"
   ]
  },
  {
   "cell_type": "code",
   "execution_count": 9,
   "id": "2232502e",
   "metadata": {},
   "outputs": [],
   "source": [
    "y=df_train['label_dis']\n",
    "X=df_train.drop(['label_dis'], axis=1)"
   ]
  },
  {
   "cell_type": "code",
   "execution_count": 10,
   "id": "06b0fd6f",
   "metadata": {},
   "outputs": [
    {
     "data": {
      "text/plain": [
       "(3324, 489)"
      ]
     },
     "execution_count": 10,
     "metadata": {},
     "output_type": "execute_result"
    }
   ],
   "source": [
    "X.shape"
   ]
  },
  {
   "cell_type": "code",
   "execution_count": 11,
   "id": "618751ee",
   "metadata": {},
   "outputs": [
    {
     "data": {
      "text/plain": [
       "abdominal cramp                        int64\n",
       "abdominal distention                   int64\n",
       "abnormal behavior                      int64\n",
       "abnormal bleeding                      int64\n",
       "abnormal sensation                     int64\n",
       "                                       ...  \n",
       "worrying                               int64\n",
       "yellow skin                            int64\n",
       "yellowish coloration skin white eye    int64\n",
       "yellowish skin                         int64\n",
       "yellowish skin crust                   int64\n",
       "Length: 489, dtype: object"
      ]
     },
     "execution_count": 11,
     "metadata": {},
     "output_type": "execute_result"
    }
   ],
   "source": [
    "X.dtypes"
   ]
  },
  {
   "cell_type": "code",
   "execution_count": 12,
   "id": "7d5b51a1",
   "metadata": {},
   "outputs": [
    {
     "data": {
      "text/plain": [
       "abdominal cramp                        0\n",
       "abdominal distention                   0\n",
       "abnormal behavior                      0\n",
       "abnormal bleeding                      0\n",
       "abnormal sensation                     0\n",
       "                                      ..\n",
       "worrying                               0\n",
       "yellow skin                            0\n",
       "yellowish coloration skin white eye    0\n",
       "yellowish skin                         0\n",
       "yellowish skin crust                   0\n",
       "Length: 489, dtype: int64"
      ]
     },
     "execution_count": 12,
     "metadata": {},
     "output_type": "execute_result"
    }
   ],
   "source": [
    "X.isna().sum()"
   ]
  },
  {
   "cell_type": "code",
   "execution_count": 13,
   "id": "a93dfd2a",
   "metadata": {},
   "outputs": [
    {
     "data": {
      "text/plain": [
       "Myocardial Infarction (Heart Attack)    2047\n",
       "Anthrax                                  511\n",
       "Polycystic ovary syndrome (PCOS)         511\n",
       "Porphyria                                255\n",
       "Name: label_dis, dtype: int64"
      ]
     },
     "execution_count": 13,
     "metadata": {},
     "output_type": "execute_result"
    }
   ],
   "source": [
    "y.value_counts()\n"
   ]
  },
  {
   "cell_type": "code",
   "execution_count": 14,
   "id": "72c9083b",
   "metadata": {},
   "outputs": [],
   "source": [
    "from sklearn.model_selection import train_test_split\n",
    "x_train, x_test, y_train, y_test = train_test_split(X, y, train_size=0.8, test_size=0.2,random_state=0, stratify=y)"
   ]
  },
  {
   "cell_type": "code",
   "execution_count": 15,
   "id": "144c675a",
   "metadata": {},
   "outputs": [
    {
     "data": {
      "text/plain": [
       "2659"
      ]
     },
     "execution_count": 15,
     "metadata": {},
     "output_type": "execute_result"
    }
   ],
   "source": [
    "len(x_train)"
   ]
  },
  {
   "cell_type": "code",
   "execution_count": 16,
   "id": "7bc106f4",
   "metadata": {},
   "outputs": [
    {
     "data": {
      "text/plain": [
       "665"
      ]
     },
     "execution_count": 16,
     "metadata": {},
     "output_type": "execute_result"
    }
   ],
   "source": [
    "len(x_test)"
   ]
  },
  {
   "cell_type": "code",
   "execution_count": 17,
   "id": "6b08a642",
   "metadata": {},
   "outputs": [],
   "source": [
    "multinb_model = MultinomialNB()\n",
    "multinb_model.fit(x_train,y_train)\n",
    "y_pred_multinb = multinb_model.predict(x_test)"
   ]
  },
  {
   "cell_type": "code",
   "execution_count": 25,
   "id": "39853177",
   "metadata": {},
   "outputs": [
    {
     "name": "stdout",
     "output_type": "stream",
     "text": [
      "Precision: 0.9939320388349515\n",
      "Recall: 0.9852941176470589\n",
      "0.9895016638149554\n"
     ]
    }
   ],
   "source": [
    "precision =precision_score(y_test, y_pred_multinb, average='macro')\n",
    "recall = recall_score(y_test, y_pred_multinb, average='macro')\n",
    "f1score = f1_score(y_test, y_pred_multinb, average='macro')\n",
    "print(precision)\n",
    "print('Recall: '+str(recall))\n",
    "print(f1score)"
   ]
  },
  {
   "cell_type": "code",
   "execution_count": null,
   "id": "3408647a",
   "metadata": {},
   "outputs": [],
   "source": [
    "print(classification_report(y_test,y_pred_multinb))"
   ]
  },
  {
   "cell_type": "code",
   "execution_count": null,
   "id": "f92674c2",
   "metadata": {},
   "outputs": [],
   "source": [
    "df=pd.read_csv('drugsComTrain_raw.tsv', sep='\\t')"
   ]
  },
  {
   "cell_type": "code",
   "execution_count": null,
   "id": "6480f5ad",
   "metadata": {},
   "outputs": [],
   "source": [
    "df.to_csv('drugsComTrain_raw.csv',index=False)"
   ]
  },
  {
   "cell_type": "code",
   "execution_count": null,
   "id": "2c8870e3",
   "metadata": {},
   "outputs": [],
   "source": [
    "df"
   ]
  },
  {
   "cell_type": "code",
   "execution_count": null,
   "id": "79fcef5b",
   "metadata": {},
   "outputs": [],
   "source": [
    "def top_drugs_extractor(condition):\n",
    "    df_top = df[(df['rating']>=9)&(df['usefulCount']>=100)].sort_values(by = ['rating', 'usefulCount'], ascending = [False, False])\n",
    "    drug_lst = df_top[df_top['condition']==condition]['drugName'].head(3).tolist()\n",
    "    return drug_lst"
   ]
  },
  {
   "cell_type": "code",
   "execution_count": null,
   "id": "be5d86e8",
   "metadata": {},
   "outputs": [],
   "source": [
    "def predict_text(lst_text):\n",
    "    df_test = pd.DataFrame(lst_text, columns = ['test_sent'])\n",
    "    df_test[\"test_sent\"] = df_test[\"test_sent\"].apply(review_to_words)\n",
    "    tfidf_bigram = tfidf_vectorizer3.transform(lst_text)\n",
    "    prediction = pass_tf.predict(tfidf_bigram)\n",
    "    df_test['prediction']=prediction\n",
    "    return df_test"
   ]
  },
  {
   "cell_type": "code",
   "execution_count": null,
   "id": "96149d0b",
   "metadata": {},
   "outputs": [],
   "source": [
    "sentences = [\n",
    "  \"abnormal sensation,worrying and yellow skin\"\n",
    "  ]"
   ]
  },
  {
   "cell_type": "code",
   "execution_count": null,
   "id": "0e4f1671",
   "metadata": {},
   "outputs": [],
   "source": []
  },
  {
   "cell_type": "code",
   "execution_count": null,
   "id": "aa760f11",
   "metadata": {},
   "outputs": [],
   "source": [
    "#plotting the roc curve\n",
    "from sklearn.metrics import roc_curve, auc\n",
    "from sklearn.metrics import roc_auc_score\n",
    "roc_auc = roc_auc_score(y_test,y_pred_multinb)\n",
    "fpr, tpr, _ = roc_curve(y_test,y_pred_multinb)\n",
    "plt.figure(figsize=(6, 5))\n",
    "plt.plot(fpr, tpr, marker='.',color='orange',label=\"for Multinomial Naive Bayes, auc = %.2f\"% roc_auc)\n",
    "plt.plot([0, 1], [0, 1], linestyle='--')\n",
    "plt.xlabel('False Positive Rate')\n",
    "plt.ylabel('True Positive Rate')\n",
    "plt.legend()\n",
    "plt.show()"
   ]
  },
  {
   "cell_type": "code",
   "execution_count": null,
   "id": "4381f43f",
   "metadata": {},
   "outputs": [],
   "source": [
    "#plt.figure(figsize=(6, 4))\n",
    "import seaborn as sns\n",
    "sns.heatmap(confusion_matrix(y_test,y_pred_multinb) , annot = True,fmt='d',cmap=\"inferno\")\n",
    "print(confusion_matrix(y_test,y_pred_multinb))\n",
    "plt.title('Confusion matrix of y_pred_multinb')\n",
    "plt.xlabel('Predicted labels')\n",
    "plt.ylabel('Actual labels')\n",
    "#plt.savefig('confusion_matrix_dataset1_svm.png')"
   ]
  },
  {
   "cell_type": "code",
   "execution_count": null,
   "id": "b4009ddf",
   "metadata": {},
   "outputs": [],
   "source": [
    "clf = svm.SVC(kernel='linear')\n",
    "t = clf.fit(x_train, y_train)\n",
    "y_pred_svm = t.predict(x_test)"
   ]
  },
  {
   "cell_type": "code",
   "execution_count": null,
   "id": "cfa59585",
   "metadata": {},
   "outputs": [],
   "source": [
    "precision_svm = precision_score(y_test, y_pred_svm, average='binary')\n",
    "recall_svm = recall_score(y_test, y_pred_svm, average='binary')\n",
    "f1score_svm = f1_score(y_test, y_pred_svm, average='binary')\n",
    "print(precision)\n",
    "print(recall)\n",
    "print(f1score)"
   ]
  },
  {
   "cell_type": "code",
   "execution_count": null,
   "id": "24bbc0ed",
   "metadata": {},
   "outputs": [],
   "source": [
    "print(classification_report(y_test,y_pred_svm))"
   ]
  },
  {
   "cell_type": "code",
   "execution_count": null,
   "id": "751e5afc",
   "metadata": {},
   "outputs": [],
   "source": [
    "#plotting the roc curve\n",
    "from sklearn.metrics import roc_curve, auc\n",
    "from sklearn.metrics import roc_auc_score\n",
    "roc_auc = roc_auc_score(y_test,y_pred_svm)\n",
    "fpr, tpr, _ = roc_curve(y_test,y_pred_svm)\n",
    "plt.figure(figsize=(6, 5))\n",
    "plt.plot(fpr, tpr, marker='.',color='orange',label=\"for SVM, auc = %.2f\"% roc_auc)\n",
    "plt.plot([0, 1], [0, 1], linestyle='--')\n",
    "plt.xlabel('False Positive Rate')\n",
    "plt.ylabel('True Positive Rate')\n",
    "plt.legend()\n",
    "plt.show()"
   ]
  },
  {
   "cell_type": "code",
   "execution_count": null,
   "id": "93acd33c",
   "metadata": {},
   "outputs": [],
   "source": [
    "#plt.figure(figsize=(6, 4))\n",
    "import seaborn as sns\n",
    "sns.heatmap(confusion_matrix(y_test,y_pred_svm) , annot = True,fmt='d',cmap=\"inferno\")\n",
    "print(confusion_matrix(y_test,y_pred_svm))\n",
    "plt.title('Confusion matrix of SVMn')\n",
    "plt.xlabel('Predicted labels')\n",
    "plt.ylabel('Actual labels')\n",
    "#plt.savefig('confusion_matrix_dataset1_svm.png')"
   ]
  },
  {
   "cell_type": "code",
   "execution_count": null,
   "id": "559583c9",
   "metadata": {},
   "outputs": [],
   "source": [
    "from sklearn.naive_bayes import GaussianNB\n",
    "model= GaussianNB()"
   ]
  },
  {
   "cell_type": "code",
   "execution_count": null,
   "id": "c1bfeb8c",
   "metadata": {},
   "outputs": [],
   "source": [
    "model.fit(x_train,y_train)"
   ]
  },
  {
   "cell_type": "code",
   "execution_count": null,
   "id": "6894aee0",
   "metadata": {},
   "outputs": [],
   "source": [
    "model.score(x_test,y_test)"
   ]
  },
  {
   "cell_type": "code",
   "execution_count": null,
   "id": "fe918937",
   "metadata": {},
   "outputs": [],
   "source": [
    "x_test[:10]"
   ]
  },
  {
   "cell_type": "code",
   "execution_count": null,
   "id": "7b5e2c53",
   "metadata": {},
   "outputs": [],
   "source": [
    "y_test[:10]"
   ]
  },
  {
   "cell_type": "code",
   "execution_count": null,
   "id": "701783b8",
   "metadata": {},
   "outputs": [],
   "source": [
    "model.predict(x_test[:10])"
   ]
  },
  {
   "cell_type": "code",
   "execution_count": null,
   "id": "702f9d96",
   "metadata": {},
   "outputs": [],
   "source": [
    "model.predict_proba(x_test[:10])"
   ]
  },
  {
   "cell_type": "code",
   "execution_count": null,
   "id": "97a6050f",
   "metadata": {},
   "outputs": [],
   "source": [
    "print(classification_report(y_test,y_pred_svm))"
   ]
  },
  {
   "cell_type": "code",
   "execution_count": null,
   "id": "cca9c37a",
   "metadata": {},
   "outputs": [],
   "source": []
  }
 ],
 "metadata": {
  "kernelspec": {
   "display_name": "Python 3 (ipykernel)",
   "language": "python",
   "name": "python3"
  },
  "language_info": {
   "codemirror_mode": {
    "name": "ipython",
    "version": 3
   },
   "file_extension": ".py",
   "mimetype": "text/x-python",
   "name": "python",
   "nbconvert_exporter": "python",
   "pygments_lexer": "ipython3",
   "version": "3.9.7"
  }
 },
 "nbformat": 4,
 "nbformat_minor": 5
}
