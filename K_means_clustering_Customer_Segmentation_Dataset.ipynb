{
 "cells": [
  {
   "cell_type": "markdown",
   "metadata": {
    "id": "RuH6elPcQjKU"
   },
   "source": [
    "Installing Kaggle"
   ]
  },
  {
   "cell_type": "code",
   "execution_count": 1,
   "metadata": {
    "executionInfo": {
     "elapsed": 775,
     "status": "ok",
     "timestamp": 1648012966509,
     "user": {
      "displayName": "Queen Akter",
      "photoUrl": "https://lh3.googleusercontent.com/a-/AOh14GjS_tJoETE5K_1L7uXI0JwYSn56TYEMwpcHVXc0=s64",
      "userId": "11218548430051109997"
     },
     "user_tz": -360
    },
    "id": "_dwSDjUSkdg9"
   },
   "outputs": [],
   "source": [
    "import pandas as pd\n",
    "import numpy as np\n",
    "import matplotlib.pyplot as plt\n",
    "import seaborn as sns"
   ]
  },
  {
   "cell_type": "code",
   "execution_count": 2,
   "metadata": {
    "executionInfo": {
     "elapsed": 773,
     "status": "ok",
     "timestamp": 1648012969586,
     "user": {
      "displayName": "Queen Akter",
      "photoUrl": "https://lh3.googleusercontent.com/a-/AOh14GjS_tJoETE5K_1L7uXI0JwYSn56TYEMwpcHVXc0=s64",
      "userId": "11218548430051109997"
     },
     "user_tz": -360
    },
    "id": "v4u2-_ey8zHS"
   },
   "outputs": [
    {
     "ename": "FileNotFoundError",
     "evalue": "[Errno 2] No such file or directory: '/content/credit.csv'",
     "output_type": "error",
     "traceback": [
      "\u001b[1;31m---------------------------------------------------------------------------\u001b[0m",
      "\u001b[1;31mFileNotFoundError\u001b[0m                         Traceback (most recent call last)",
      "\u001b[1;32m~\\AppData\\Local\\Temp/ipykernel_6976/2954945348.py\u001b[0m in \u001b[0;36m<module>\u001b[1;34m\u001b[0m\n\u001b[1;32m----> 1\u001b[1;33m \u001b[0mdata\u001b[0m \u001b[1;33m=\u001b[0m \u001b[0mpd\u001b[0m\u001b[1;33m.\u001b[0m\u001b[0mread_csv\u001b[0m\u001b[1;33m(\u001b[0m\u001b[1;34m'/content/credit.csv'\u001b[0m\u001b[1;33m)\u001b[0m\u001b[1;33m\u001b[0m\u001b[1;33m\u001b[0m\u001b[0m\n\u001b[0m",
      "\u001b[1;32m~\\anaconda3\\lib\\site-packages\\pandas\\util\\_decorators.py\u001b[0m in \u001b[0;36mwrapper\u001b[1;34m(*args, **kwargs)\u001b[0m\n\u001b[0;32m    309\u001b[0m                     \u001b[0mstacklevel\u001b[0m\u001b[1;33m=\u001b[0m\u001b[0mstacklevel\u001b[0m\u001b[1;33m,\u001b[0m\u001b[1;33m\u001b[0m\u001b[1;33m\u001b[0m\u001b[0m\n\u001b[0;32m    310\u001b[0m                 )\n\u001b[1;32m--> 311\u001b[1;33m             \u001b[1;32mreturn\u001b[0m \u001b[0mfunc\u001b[0m\u001b[1;33m(\u001b[0m\u001b[1;33m*\u001b[0m\u001b[0margs\u001b[0m\u001b[1;33m,\u001b[0m \u001b[1;33m**\u001b[0m\u001b[0mkwargs\u001b[0m\u001b[1;33m)\u001b[0m\u001b[1;33m\u001b[0m\u001b[1;33m\u001b[0m\u001b[0m\n\u001b[0m\u001b[0;32m    312\u001b[0m \u001b[1;33m\u001b[0m\u001b[0m\n\u001b[0;32m    313\u001b[0m         \u001b[1;32mreturn\u001b[0m \u001b[0mwrapper\u001b[0m\u001b[1;33m\u001b[0m\u001b[1;33m\u001b[0m\u001b[0m\n",
      "\u001b[1;32m~\\anaconda3\\lib\\site-packages\\pandas\\io\\parsers\\readers.py\u001b[0m in \u001b[0;36mread_csv\u001b[1;34m(filepath_or_buffer, sep, delimiter, header, names, index_col, usecols, squeeze, prefix, mangle_dupe_cols, dtype, engine, converters, true_values, false_values, skipinitialspace, skiprows, skipfooter, nrows, na_values, keep_default_na, na_filter, verbose, skip_blank_lines, parse_dates, infer_datetime_format, keep_date_col, date_parser, dayfirst, cache_dates, iterator, chunksize, compression, thousands, decimal, lineterminator, quotechar, quoting, doublequote, escapechar, comment, encoding, encoding_errors, dialect, error_bad_lines, warn_bad_lines, on_bad_lines, delim_whitespace, low_memory, memory_map, float_precision, storage_options)\u001b[0m\n\u001b[0;32m    584\u001b[0m     \u001b[0mkwds\u001b[0m\u001b[1;33m.\u001b[0m\u001b[0mupdate\u001b[0m\u001b[1;33m(\u001b[0m\u001b[0mkwds_defaults\u001b[0m\u001b[1;33m)\u001b[0m\u001b[1;33m\u001b[0m\u001b[1;33m\u001b[0m\u001b[0m\n\u001b[0;32m    585\u001b[0m \u001b[1;33m\u001b[0m\u001b[0m\n\u001b[1;32m--> 586\u001b[1;33m     \u001b[1;32mreturn\u001b[0m \u001b[0m_read\u001b[0m\u001b[1;33m(\u001b[0m\u001b[0mfilepath_or_buffer\u001b[0m\u001b[1;33m,\u001b[0m \u001b[0mkwds\u001b[0m\u001b[1;33m)\u001b[0m\u001b[1;33m\u001b[0m\u001b[1;33m\u001b[0m\u001b[0m\n\u001b[0m\u001b[0;32m    587\u001b[0m \u001b[1;33m\u001b[0m\u001b[0m\n\u001b[0;32m    588\u001b[0m \u001b[1;33m\u001b[0m\u001b[0m\n",
      "\u001b[1;32m~\\anaconda3\\lib\\site-packages\\pandas\\io\\parsers\\readers.py\u001b[0m in \u001b[0;36m_read\u001b[1;34m(filepath_or_buffer, kwds)\u001b[0m\n\u001b[0;32m    480\u001b[0m \u001b[1;33m\u001b[0m\u001b[0m\n\u001b[0;32m    481\u001b[0m     \u001b[1;31m# Create the parser.\u001b[0m\u001b[1;33m\u001b[0m\u001b[1;33m\u001b[0m\u001b[0m\n\u001b[1;32m--> 482\u001b[1;33m     \u001b[0mparser\u001b[0m \u001b[1;33m=\u001b[0m \u001b[0mTextFileReader\u001b[0m\u001b[1;33m(\u001b[0m\u001b[0mfilepath_or_buffer\u001b[0m\u001b[1;33m,\u001b[0m \u001b[1;33m**\u001b[0m\u001b[0mkwds\u001b[0m\u001b[1;33m)\u001b[0m\u001b[1;33m\u001b[0m\u001b[1;33m\u001b[0m\u001b[0m\n\u001b[0m\u001b[0;32m    483\u001b[0m \u001b[1;33m\u001b[0m\u001b[0m\n\u001b[0;32m    484\u001b[0m     \u001b[1;32mif\u001b[0m \u001b[0mchunksize\u001b[0m \u001b[1;32mor\u001b[0m \u001b[0miterator\u001b[0m\u001b[1;33m:\u001b[0m\u001b[1;33m\u001b[0m\u001b[1;33m\u001b[0m\u001b[0m\n",
      "\u001b[1;32m~\\anaconda3\\lib\\site-packages\\pandas\\io\\parsers\\readers.py\u001b[0m in \u001b[0;36m__init__\u001b[1;34m(self, f, engine, **kwds)\u001b[0m\n\u001b[0;32m    809\u001b[0m             \u001b[0mself\u001b[0m\u001b[1;33m.\u001b[0m\u001b[0moptions\u001b[0m\u001b[1;33m[\u001b[0m\u001b[1;34m\"has_index_names\"\u001b[0m\u001b[1;33m]\u001b[0m \u001b[1;33m=\u001b[0m \u001b[0mkwds\u001b[0m\u001b[1;33m[\u001b[0m\u001b[1;34m\"has_index_names\"\u001b[0m\u001b[1;33m]\u001b[0m\u001b[1;33m\u001b[0m\u001b[1;33m\u001b[0m\u001b[0m\n\u001b[0;32m    810\u001b[0m \u001b[1;33m\u001b[0m\u001b[0m\n\u001b[1;32m--> 811\u001b[1;33m         \u001b[0mself\u001b[0m\u001b[1;33m.\u001b[0m\u001b[0m_engine\u001b[0m \u001b[1;33m=\u001b[0m \u001b[0mself\u001b[0m\u001b[1;33m.\u001b[0m\u001b[0m_make_engine\u001b[0m\u001b[1;33m(\u001b[0m\u001b[0mself\u001b[0m\u001b[1;33m.\u001b[0m\u001b[0mengine\u001b[0m\u001b[1;33m)\u001b[0m\u001b[1;33m\u001b[0m\u001b[1;33m\u001b[0m\u001b[0m\n\u001b[0m\u001b[0;32m    812\u001b[0m \u001b[1;33m\u001b[0m\u001b[0m\n\u001b[0;32m    813\u001b[0m     \u001b[1;32mdef\u001b[0m \u001b[0mclose\u001b[0m\u001b[1;33m(\u001b[0m\u001b[0mself\u001b[0m\u001b[1;33m)\u001b[0m\u001b[1;33m:\u001b[0m\u001b[1;33m\u001b[0m\u001b[1;33m\u001b[0m\u001b[0m\n",
      "\u001b[1;32m~\\anaconda3\\lib\\site-packages\\pandas\\io\\parsers\\readers.py\u001b[0m in \u001b[0;36m_make_engine\u001b[1;34m(self, engine)\u001b[0m\n\u001b[0;32m   1038\u001b[0m             )\n\u001b[0;32m   1039\u001b[0m         \u001b[1;31m# error: Too many arguments for \"ParserBase\"\u001b[0m\u001b[1;33m\u001b[0m\u001b[1;33m\u001b[0m\u001b[0m\n\u001b[1;32m-> 1040\u001b[1;33m         \u001b[1;32mreturn\u001b[0m \u001b[0mmapping\u001b[0m\u001b[1;33m[\u001b[0m\u001b[0mengine\u001b[0m\u001b[1;33m]\u001b[0m\u001b[1;33m(\u001b[0m\u001b[0mself\u001b[0m\u001b[1;33m.\u001b[0m\u001b[0mf\u001b[0m\u001b[1;33m,\u001b[0m \u001b[1;33m**\u001b[0m\u001b[0mself\u001b[0m\u001b[1;33m.\u001b[0m\u001b[0moptions\u001b[0m\u001b[1;33m)\u001b[0m  \u001b[1;31m# type: ignore[call-arg]\u001b[0m\u001b[1;33m\u001b[0m\u001b[1;33m\u001b[0m\u001b[0m\n\u001b[0m\u001b[0;32m   1041\u001b[0m \u001b[1;33m\u001b[0m\u001b[0m\n\u001b[0;32m   1042\u001b[0m     \u001b[1;32mdef\u001b[0m \u001b[0m_failover_to_python\u001b[0m\u001b[1;33m(\u001b[0m\u001b[0mself\u001b[0m\u001b[1;33m)\u001b[0m\u001b[1;33m:\u001b[0m\u001b[1;33m\u001b[0m\u001b[1;33m\u001b[0m\u001b[0m\n",
      "\u001b[1;32m~\\anaconda3\\lib\\site-packages\\pandas\\io\\parsers\\c_parser_wrapper.py\u001b[0m in \u001b[0;36m__init__\u001b[1;34m(self, src, **kwds)\u001b[0m\n\u001b[0;32m     49\u001b[0m \u001b[1;33m\u001b[0m\u001b[0m\n\u001b[0;32m     50\u001b[0m         \u001b[1;31m# open handles\u001b[0m\u001b[1;33m\u001b[0m\u001b[1;33m\u001b[0m\u001b[0m\n\u001b[1;32m---> 51\u001b[1;33m         \u001b[0mself\u001b[0m\u001b[1;33m.\u001b[0m\u001b[0m_open_handles\u001b[0m\u001b[1;33m(\u001b[0m\u001b[0msrc\u001b[0m\u001b[1;33m,\u001b[0m \u001b[0mkwds\u001b[0m\u001b[1;33m)\u001b[0m\u001b[1;33m\u001b[0m\u001b[1;33m\u001b[0m\u001b[0m\n\u001b[0m\u001b[0;32m     52\u001b[0m         \u001b[1;32massert\u001b[0m \u001b[0mself\u001b[0m\u001b[1;33m.\u001b[0m\u001b[0mhandles\u001b[0m \u001b[1;32mis\u001b[0m \u001b[1;32mnot\u001b[0m \u001b[1;32mNone\u001b[0m\u001b[1;33m\u001b[0m\u001b[1;33m\u001b[0m\u001b[0m\n\u001b[0;32m     53\u001b[0m \u001b[1;33m\u001b[0m\u001b[0m\n",
      "\u001b[1;32m~\\anaconda3\\lib\\site-packages\\pandas\\io\\parsers\\base_parser.py\u001b[0m in \u001b[0;36m_open_handles\u001b[1;34m(self, src, kwds)\u001b[0m\n\u001b[0;32m    220\u001b[0m         \u001b[0mLet\u001b[0m \u001b[0mthe\u001b[0m \u001b[0mreaders\u001b[0m \u001b[0mopen\u001b[0m \u001b[0mIOHandles\u001b[0m \u001b[0mafter\u001b[0m \u001b[0mthey\u001b[0m \u001b[0mare\u001b[0m \u001b[0mdone\u001b[0m \u001b[1;32mwith\u001b[0m \u001b[0mtheir\u001b[0m \u001b[0mpotential\u001b[0m \u001b[0mraises\u001b[0m\u001b[1;33m.\u001b[0m\u001b[1;33m\u001b[0m\u001b[1;33m\u001b[0m\u001b[0m\n\u001b[0;32m    221\u001b[0m         \"\"\"\n\u001b[1;32m--> 222\u001b[1;33m         self.handles = get_handle(\n\u001b[0m\u001b[0;32m    223\u001b[0m             \u001b[0msrc\u001b[0m\u001b[1;33m,\u001b[0m\u001b[1;33m\u001b[0m\u001b[1;33m\u001b[0m\u001b[0m\n\u001b[0;32m    224\u001b[0m             \u001b[1;34m\"r\"\u001b[0m\u001b[1;33m,\u001b[0m\u001b[1;33m\u001b[0m\u001b[1;33m\u001b[0m\u001b[0m\n",
      "\u001b[1;32m~\\anaconda3\\lib\\site-packages\\pandas\\io\\common.py\u001b[0m in \u001b[0;36mget_handle\u001b[1;34m(path_or_buf, mode, encoding, compression, memory_map, is_text, errors, storage_options)\u001b[0m\n\u001b[0;32m    700\u001b[0m         \u001b[1;32mif\u001b[0m \u001b[0mioargs\u001b[0m\u001b[1;33m.\u001b[0m\u001b[0mencoding\u001b[0m \u001b[1;32mand\u001b[0m \u001b[1;34m\"b\"\u001b[0m \u001b[1;32mnot\u001b[0m \u001b[1;32min\u001b[0m \u001b[0mioargs\u001b[0m\u001b[1;33m.\u001b[0m\u001b[0mmode\u001b[0m\u001b[1;33m:\u001b[0m\u001b[1;33m\u001b[0m\u001b[1;33m\u001b[0m\u001b[0m\n\u001b[0;32m    701\u001b[0m             \u001b[1;31m# Encoding\u001b[0m\u001b[1;33m\u001b[0m\u001b[1;33m\u001b[0m\u001b[0m\n\u001b[1;32m--> 702\u001b[1;33m             handle = open(\n\u001b[0m\u001b[0;32m    703\u001b[0m                 \u001b[0mhandle\u001b[0m\u001b[1;33m,\u001b[0m\u001b[1;33m\u001b[0m\u001b[1;33m\u001b[0m\u001b[0m\n\u001b[0;32m    704\u001b[0m                 \u001b[0mioargs\u001b[0m\u001b[1;33m.\u001b[0m\u001b[0mmode\u001b[0m\u001b[1;33m,\u001b[0m\u001b[1;33m\u001b[0m\u001b[1;33m\u001b[0m\u001b[0m\n",
      "\u001b[1;31mFileNotFoundError\u001b[0m: [Errno 2] No such file or directory: '/content/credit.csv'"
     ]
    }
   ],
   "source": [
    "data = pd.read_csv('/content/credit.csv')"
   ]
  },
  {
   "cell_type": "markdown",
   "metadata": {
    "id": "PxjkBZLuQq7i"
   },
   "source": [
    "Importing colab and uploading the kaggle api file."
   ]
  },
  {
   "cell_type": "markdown",
   "metadata": {
    "id": "bHypdlbmSGAZ"
   },
   "source": [
    "Unzipping the dataset"
   ]
  },
  {
   "cell_type": "markdown",
   "metadata": {
    "id": "jsOz2af1SRBl"
   },
   "source": [
    "Importing the necesssary library files"
   ]
  },
  {
   "cell_type": "markdown",
   "metadata": {
    "id": "dVQ2cCJUSTEl"
   },
   "source": [
    "reading the dataset using pandas read_csv()"
   ]
  },
  {
   "cell_type": "markdown",
   "metadata": {
    "id": "pC64BgT3Sb29"
   },
   "source": [
    "checking first five rows of the dataset"
   ]
  },
  {
   "cell_type": "code",
   "execution_count": null,
   "metadata": {
    "colab": {
     "base_uri": "https://localhost:8080/",
     "height": 270
    },
    "executionInfo": {
     "elapsed": 743,
     "status": "ok",
     "timestamp": 1648012974089,
     "user": {
      "displayName": "Queen Akter",
      "photoUrl": "https://lh3.googleusercontent.com/a-/AOh14GjS_tJoETE5K_1L7uXI0JwYSn56TYEMwpcHVXc0=s64",
      "userId": "11218548430051109997"
     },
     "user_tz": -360
    },
    "id": "lzp-H2bLl17i",
    "outputId": "01931bc4-084a-4b0e-a0b4-bd74a6ac96a7"
   },
   "outputs": [],
   "source": [
    "data.head()"
   ]
  },
  {
   "cell_type": "code",
   "execution_count": null,
   "metadata": {
    "executionInfo": {
     "elapsed": 775,
     "status": "ok",
     "timestamp": 1648012977370,
     "user": {
      "displayName": "Queen Akter",
      "photoUrl": "https://lh3.googleusercontent.com/a-/AOh14GjS_tJoETE5K_1L7uXI0JwYSn56TYEMwpcHVXc0=s64",
      "userId": "11218548430051109997"
     },
     "user_tz": -360
    },
    "id": "fwh-LuHoJUBS"
   },
   "outputs": [],
   "source": []
  },
  {
   "cell_type": "markdown",
   "metadata": {
    "id": "rx2s4e2QU7Ga"
   },
   "source": [
    "Checking number of rows and columns of the dataset using shape"
   ]
  },
  {
   "cell_type": "code",
   "execution_count": null,
   "metadata": {
    "colab": {
     "base_uri": "https://localhost:8080/"
    },
    "executionInfo": {
     "elapsed": 733,
     "status": "ok",
     "timestamp": 1648012980539,
     "user": {
      "displayName": "Queen Akter",
      "photoUrl": "https://lh3.googleusercontent.com/a-/AOh14GjS_tJoETE5K_1L7uXI0JwYSn56TYEMwpcHVXc0=s64",
      "userId": "11218548430051109997"
     },
     "user_tz": -360
    },
    "id": "b1rUM5exnbiO",
    "outputId": "53edd013-6344-4c19-a228-6b16bc73a3ab"
   },
   "outputs": [],
   "source": [
    "data.shape"
   ]
  },
  {
   "cell_type": "markdown",
   "metadata": {
    "id": "vZyRaisqStqR"
   },
   "source": [
    "Checking different statistical attributes of the dataseet using describe()"
   ]
  },
  {
   "cell_type": "code",
   "execution_count": null,
   "metadata": {
    "colab": {
     "base_uri": "https://localhost:8080/",
     "height": 364
    },
    "executionInfo": {
     "elapsed": 771,
     "status": "ok",
     "timestamp": 1648012983917,
     "user": {
      "displayName": "Queen Akter",
      "photoUrl": "https://lh3.googleusercontent.com/a-/AOh14GjS_tJoETE5K_1L7uXI0JwYSn56TYEMwpcHVXc0=s64",
      "userId": "11218548430051109997"
     },
     "user_tz": -360
    },
    "id": "GPo2zJbvnezu",
    "outputId": "c66e9f3e-a551-4f6e-dc6d-be4fa9ae633f"
   },
   "outputs": [],
   "source": [
    "data.describe()"
   ]
  },
  {
   "cell_type": "markdown",
   "metadata": {
    "id": "dhtS5wVQTROX"
   },
   "source": [
    "Checking is there is any null values in the dataset"
   ]
  },
  {
   "cell_type": "code",
   "execution_count": null,
   "metadata": {
    "colab": {
     "base_uri": "https://localhost:8080/"
    },
    "executionInfo": {
     "elapsed": 784,
     "status": "ok",
     "timestamp": 1648012987495,
     "user": {
      "displayName": "Queen Akter",
      "photoUrl": "https://lh3.googleusercontent.com/a-/AOh14GjS_tJoETE5K_1L7uXI0JwYSn56TYEMwpcHVXc0=s64",
      "userId": "11218548430051109997"
     },
     "user_tz": -360
    },
    "id": "8KQfkSKbngOi",
    "outputId": "3f4628c0-d7e3-4b3f-c7ef-9718fe357067"
   },
   "outputs": [],
   "source": [
    "data.isnull().sum()"
   ]
  },
  {
   "cell_type": "markdown",
   "metadata": {
    "id": "VwGUyoSSTY9g"
   },
   "source": [
    "Plotting the dataset for visualization"
   ]
  },
  {
   "cell_type": "markdown",
   "metadata": {
    "id": "PZYNJvngMDS5"
   },
   "source": [
    "# New Section"
   ]
  },
  {
   "cell_type": "markdown",
   "metadata": {
    "id": "KmvGcX7GTveU"
   },
   "source": [
    "Plotting the correlation matrix"
   ]
  },
  {
   "cell_type": "code",
   "execution_count": null,
   "metadata": {
    "colab": {
     "base_uri": "https://localhost:8080/",
     "height": 681
    },
    "executionInfo": {
     "elapsed": 2801,
     "status": "ok",
     "timestamp": 1648013004797,
     "user": {
      "displayName": "Queen Akter",
      "photoUrl": "https://lh3.googleusercontent.com/a-/AOh14GjS_tJoETE5K_1L7uXI0JwYSn56TYEMwpcHVXc0=s64",
      "userId": "11218548430051109997"
     },
     "user_tz": -360
    },
    "id": "mpyCglgaqHIj",
    "outputId": "276099e3-7d25-432d-b881-778e6ef81363"
   },
   "outputs": [],
   "source": [
    "fig,ax = plt.subplots(figsize=(11,8))\n",
    "sns.heatmap(data.corr(),annot=True,cmap=\"Blues\" ,ax=ax)\n",
    "plt.show()"
   ]
  },
  {
   "cell_type": "markdown",
   "metadata": {
    "id": "m4A5RzU5T2Fy"
   },
   "source": [
    "Importing the KMeans to classification"
   ]
  },
  {
   "cell_type": "code",
   "execution_count": null,
   "metadata": {
    "executionInfo": {
     "elapsed": 705,
     "status": "ok",
     "timestamp": 1648013008710,
     "user": {
      "displayName": "Queen Akter",
      "photoUrl": "https://lh3.googleusercontent.com/a-/AOh14GjS_tJoETE5K_1L7uXI0JwYSn56TYEMwpcHVXc0=s64",
      "userId": "11218548430051109997"
     },
     "user_tz": -360
    },
    "id": "DuJJdQw8qalA"
   },
   "outputs": [],
   "source": [
    "from sklearn.cluster import KMeans"
   ]
  },
  {
   "cell_type": "markdown",
   "metadata": {
    "id": "ViTG2YMYT5t0"
   },
   "source": [
    "Slicing the dataset to fed into the machine"
   ]
  },
  {
   "cell_type": "code",
   "execution_count": null,
   "metadata": {
    "colab": {
     "base_uri": "https://localhost:8080/",
     "height": 424
    },
    "executionInfo": {
     "elapsed": 732,
     "status": "ok",
     "timestamp": 1648013014414,
     "user": {
      "displayName": "Queen Akter",
      "photoUrl": "https://lh3.googleusercontent.com/a-/AOh14GjS_tJoETE5K_1L7uXI0JwYSn56TYEMwpcHVXc0=s64",
      "userId": "11218548430051109997"
     },
     "user_tz": -360
    },
    "id": "fxAOw-EMs3vv",
    "outputId": "1bfaa52b-0d26-4c42-c67d-33f3d290dfb8"
   },
   "outputs": [],
   "source": [
    "x = data.iloc[:,[3,4]]\n",
    "x"
   ]
  },
  {
   "cell_type": "markdown",
   "metadata": {
    "id": "He1oORc5T-5G"
   },
   "source": [
    "Performing Elbow method to find out the optimal number of clusters. The loop will run the algorithm for 1 to 10 number of clusters"
   ]
  },
  {
   "cell_type": "code",
   "execution_count": null,
   "metadata": {
    "executionInfo": {
     "elapsed": 5392,
     "status": "ok",
     "timestamp": 1648013022923,
     "user": {
      "displayName": "Queen Akter",
      "photoUrl": "https://lh3.googleusercontent.com/a-/AOh14GjS_tJoETE5K_1L7uXI0JwYSn56TYEMwpcHVXc0=s64",
      "userId": "11218548430051109997"
     },
     "user_tz": -360
    },
    "id": "nH-Nr1owswU1"
   },
   "outputs": [],
   "source": [
    "wcss=[]\n",
    "for i in range (1,11):\n",
    "    kmeans=KMeans(n_clusters=i,init=\"k-means++\",max_iter=300,n_init=10,random_state=0)\n",
    "    kmeans.fit(x)\n",
    "    wcss.append(kmeans.inertia_)"
   ]
  },
  {
   "cell_type": "markdown",
   "metadata": {
    "id": "sVYbZHtEUMwN"
   },
   "source": [
    "Plotting the elbox method. The plot shows that 5 is the optimal number of clusters"
   ]
  },
  {
   "cell_type": "code",
   "execution_count": null,
   "metadata": {
    "colab": {
     "base_uri": "https://localhost:8080/",
     "height": 295
    },
    "executionInfo": {
     "elapsed": 1033,
     "status": "ok",
     "timestamp": 1648013027429,
     "user": {
      "displayName": "Queen Akter",
      "photoUrl": "https://lh3.googleusercontent.com/a-/AOh14GjS_tJoETE5K_1L7uXI0JwYSn56TYEMwpcHVXc0=s64",
      "userId": "11218548430051109997"
     },
     "user_tz": -360
    },
    "id": "NkXFx6tKszDw",
    "outputId": "169e3007-cde3-47da-9982-c12dbaad60a9"
   },
   "outputs": [],
   "source": [
    "plt.plot(range(1,11),wcss)\n",
    "plt.xlabel(\"No. of Clusters\")\n",
    "plt.ylabel(\"WCSS\")\n",
    "plt.title(\"Elbow Method\")\n",
    "plt.show()"
   ]
  },
  {
   "cell_type": "markdown",
   "metadata": {
    "id": "BVYI7uUUUToQ"
   },
   "source": []
  },
  {
   "cell_type": "markdown",
   "metadata": {
    "id": "71RAmxwiUXMd"
   },
   "source": [
    "Training the KMeans model with 5 number of clusters"
   ]
  },
  {
   "cell_type": "code",
   "execution_count": null,
   "metadata": {
    "executionInfo": {
     "elapsed": 710,
     "status": "ok",
     "timestamp": 1648013039306,
     "user": {
      "displayName": "Queen Akter",
      "photoUrl": "https://lh3.googleusercontent.com/a-/AOh14GjS_tJoETE5K_1L7uXI0JwYSn56TYEMwpcHVXc0=s64",
      "userId": "11218548430051109997"
     },
     "user_tz": -360
    },
    "id": "-MqOs6Z7tJ14"
   },
   "outputs": [],
   "source": [
    "kmeans=KMeans(n_clusters=4,init=\"k-means++\",max_iter=300,n_init=10,random_state=0)"
   ]
  },
  {
   "cell_type": "markdown",
   "metadata": {
    "id": "96FWKK-GUd2c"
   },
   "source": [
    "predicting the values and printing them"
   ]
  },
  {
   "cell_type": "code",
   "execution_count": null,
   "metadata": {
    "colab": {
     "base_uri": "https://localhost:8080/"
    },
    "executionInfo": {
     "elapsed": 758,
     "status": "ok",
     "timestamp": 1648013043453,
     "user": {
      "displayName": "Queen Akter",
      "photoUrl": "https://lh3.googleusercontent.com/a-/AOh14GjS_tJoETE5K_1L7uXI0JwYSn56TYEMwpcHVXc0=s64",
      "userId": "11218548430051109997"
     },
     "user_tz": -360
    },
    "id": "dAszoH6Etkln",
    "outputId": "6362d43c-fa23-4eb1-d9d5-a78dd1ba56f7"
   },
   "outputs": [],
   "source": [
    "y_kmeans=kmeans.fit_predict(x)\n",
    "y_kmeans"
   ]
  },
  {
   "cell_type": "markdown",
   "metadata": {
    "id": "sETPyEQ6UiAA"
   },
   "source": [
    "Plotiing all the clusters that were predicted by KMeans"
   ]
  },
  {
   "cell_type": "code",
   "execution_count": null,
   "metadata": {
    "colab": {
     "base_uri": "https://localhost:8080/",
     "height": 371
    },
    "executionInfo": {
     "elapsed": 1048,
     "status": "ok",
     "timestamp": 1648013053452,
     "user": {
      "displayName": "Queen Akter",
      "photoUrl": "https://lh3.googleusercontent.com/a-/AOh14GjS_tJoETE5K_1L7uXI0JwYSn56TYEMwpcHVXc0=s64",
      "userId": "11218548430051109997"
     },
     "user_tz": -360
    },
    "id": "hCgffr0QtmnS",
    "outputId": "d7a8e514-6b61-4610-9bd4-ca2fe83ed941"
   },
   "outputs": [],
   "source": [
    "x=np.array(x)\n",
    "fig = plt.figure(figsize=(25, 10))\n",
    "plt.scatter(x[y_kmeans == 0, 0], x[y_kmeans == 0, 1], s = 100, c = 'red', label = 'Cluster 1')\n",
    "plt.scatter(x[y_kmeans == 1, 0], x[y_kmeans == 1, 1], s = 100, c = 'blue', label = 'Cluster 2')\n",
    "plt.scatter(x[y_kmeans == 2, 0], x[y_kmeans == 2, 1], s = 100, c = 'green', label = 'Cluster 3')\n",
    "plt.scatter(x[y_kmeans == 3, 0], x[y_kmeans == 3, 1], s = 100, c = 'cyan', label = 'Cluster 4')\n",
    "plt.scatter(kmeans.cluster_centers_[:, 0], kmeans.cluster_centers_[:, 1], s = 300, c = 'yellow', label = 'Centroids')\n",
    "plt.title('Clusters of customers')\n",
    "plt.xlabel('Annual Income (k$)')\n",
    "plt.ylabel('Spending Score (1-100)')\n",
    "plt.legend()\n",
    "plt.show()"
   ]
  },
  {
   "cell_type": "code",
   "execution_count": null,
   "metadata": {},
   "outputs": [],
   "source": []
  }
 ],
 "metadata": {
  "colab": {
   "collapsed_sections": [],
   "name": "K_means_clustering_Customer_Segmentation_Dataset.ipynb",
   "provenance": []
  },
  "kernelspec": {
   "display_name": "Python 3 (ipykernel)",
   "language": "python",
   "name": "python3"
  },
  "language_info": {
   "codemirror_mode": {
    "name": "ipython",
    "version": 3
   },
   "file_extension": ".py",
   "mimetype": "text/x-python",
   "name": "python",
   "nbconvert_exporter": "python",
   "pygments_lexer": "ipython3",
   "version": "3.9.7"
  }
 },
 "nbformat": 4,
 "nbformat_minor": 1
}
