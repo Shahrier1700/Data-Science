{
 "cells": [
  {
   "cell_type": "code",
   "execution_count": 1,
   "id": "06163607",
   "metadata": {},
   "outputs": [],
   "source": [
    "import numpy as np\n",
    "import pandas as pd\n",
    "import os\n",
    "from sklearn.neighbors import KNeighborsClassifier"
   ]
  },
  {
   "cell_type": "code",
   "execution_count": 2,
   "id": "8fbd8052",
   "metadata": {},
   "outputs": [],
   "source": [
    "# Reading the symptoms dataset\n",
    "sym_data = pd.read_csv(\"final_symptom.csv\")"
   ]
  },
  {
   "cell_type": "code",
   "execution_count": 3,
   "id": "67b97be6",
   "metadata": {},
   "outputs": [
    {
     "data": {
      "text/html": [
       "<div>\n",
       "<style scoped>\n",
       "    .dataframe tbody tr th:only-of-type {\n",
       "        vertical-align: middle;\n",
       "    }\n",
       "\n",
       "    .dataframe tbody tr th {\n",
       "        vertical-align: top;\n",
       "    }\n",
       "\n",
       "    .dataframe thead th {\n",
       "        text-align: right;\n",
       "    }\n",
       "</style>\n",
       "<table border=\"1\" class=\"dataframe\">\n",
       "  <thead>\n",
       "    <tr style=\"text-align: right;\">\n",
       "      <th></th>\n",
       "      <th>Disease</th>\n",
       "      <th>Heberden's node</th>\n",
       "      <th>Murphy's sign</th>\n",
       "      <th>Stahli's line</th>\n",
       "      <th>abdomen acute</th>\n",
       "      <th>abdominal bloating</th>\n",
       "      <th>abdominal tenderness</th>\n",
       "      <th>abnormal sensation</th>\n",
       "      <th>abnormally hard consistency</th>\n",
       "      <th>abortion</th>\n",
       "      <th>...</th>\n",
       "      <th>vision blurred</th>\n",
       "      <th>vomiting</th>\n",
       "      <th>weepiness</th>\n",
       "      <th>weight gain</th>\n",
       "      <th>welt</th>\n",
       "      <th>wheelchair bound</th>\n",
       "      <th>wheezing</th>\n",
       "      <th>withdraw</th>\n",
       "      <th>worry</th>\n",
       "      <th>yellow sputum</th>\n",
       "    </tr>\n",
       "  </thead>\n",
       "  <tbody>\n",
       "    <tr>\n",
       "      <th>0</th>\n",
       "      <td>Alzheimer's disease</td>\n",
       "      <td>0</td>\n",
       "      <td>0</td>\n",
       "      <td>0</td>\n",
       "      <td>0</td>\n",
       "      <td>0</td>\n",
       "      <td>0</td>\n",
       "      <td>0</td>\n",
       "      <td>0</td>\n",
       "      <td>0</td>\n",
       "      <td>...</td>\n",
       "      <td>0</td>\n",
       "      <td>0</td>\n",
       "      <td>0</td>\n",
       "      <td>0</td>\n",
       "      <td>0</td>\n",
       "      <td>0</td>\n",
       "      <td>0</td>\n",
       "      <td>0</td>\n",
       "      <td>0</td>\n",
       "      <td>0</td>\n",
       "    </tr>\n",
       "    <tr>\n",
       "      <th>1</th>\n",
       "      <td>Alzheimer's disease</td>\n",
       "      <td>0</td>\n",
       "      <td>0</td>\n",
       "      <td>0</td>\n",
       "      <td>0</td>\n",
       "      <td>0</td>\n",
       "      <td>0</td>\n",
       "      <td>0</td>\n",
       "      <td>0</td>\n",
       "      <td>0</td>\n",
       "      <td>...</td>\n",
       "      <td>0</td>\n",
       "      <td>0</td>\n",
       "      <td>0</td>\n",
       "      <td>0</td>\n",
       "      <td>0</td>\n",
       "      <td>0</td>\n",
       "      <td>0</td>\n",
       "      <td>0</td>\n",
       "      <td>0</td>\n",
       "      <td>0</td>\n",
       "    </tr>\n",
       "    <tr>\n",
       "      <th>2</th>\n",
       "      <td>Alzheimer's disease</td>\n",
       "      <td>0</td>\n",
       "      <td>0</td>\n",
       "      <td>0</td>\n",
       "      <td>0</td>\n",
       "      <td>0</td>\n",
       "      <td>0</td>\n",
       "      <td>0</td>\n",
       "      <td>0</td>\n",
       "      <td>0</td>\n",
       "      <td>...</td>\n",
       "      <td>0</td>\n",
       "      <td>0</td>\n",
       "      <td>0</td>\n",
       "      <td>0</td>\n",
       "      <td>0</td>\n",
       "      <td>0</td>\n",
       "      <td>0</td>\n",
       "      <td>0</td>\n",
       "      <td>0</td>\n",
       "      <td>0</td>\n",
       "    </tr>\n",
       "    <tr>\n",
       "      <th>3</th>\n",
       "      <td>Alzheimer's disease</td>\n",
       "      <td>0</td>\n",
       "      <td>0</td>\n",
       "      <td>0</td>\n",
       "      <td>0</td>\n",
       "      <td>0</td>\n",
       "      <td>0</td>\n",
       "      <td>0</td>\n",
       "      <td>0</td>\n",
       "      <td>0</td>\n",
       "      <td>...</td>\n",
       "      <td>0</td>\n",
       "      <td>0</td>\n",
       "      <td>0</td>\n",
       "      <td>0</td>\n",
       "      <td>0</td>\n",
       "      <td>1</td>\n",
       "      <td>0</td>\n",
       "      <td>0</td>\n",
       "      <td>0</td>\n",
       "      <td>0</td>\n",
       "    </tr>\n",
       "  </tbody>\n",
       "</table>\n",
       "<p>4 rows × 405 columns</p>\n",
       "</div>"
      ],
      "text/plain": [
       "               Disease  Heberden's node  Murphy's sign  Stahli's line  \\\n",
       "0  Alzheimer's disease                0              0              0   \n",
       "1  Alzheimer's disease                0              0              0   \n",
       "2  Alzheimer's disease                0              0              0   \n",
       "3  Alzheimer's disease                0              0              0   \n",
       "\n",
       "   abdomen acute  abdominal bloating  abdominal tenderness  \\\n",
       "0              0                   0                     0   \n",
       "1              0                   0                     0   \n",
       "2              0                   0                     0   \n",
       "3              0                   0                     0   \n",
       "\n",
       "   abnormal sensation  abnormally hard consistency  abortion  ...  \\\n",
       "0                   0                            0         0  ...   \n",
       "1                   0                            0         0  ...   \n",
       "2                   0                            0         0  ...   \n",
       "3                   0                            0         0  ...   \n",
       "\n",
       "   vision blurred  vomiting  weepiness  weight gain  welt  wheelchair bound  \\\n",
       "0               0         0          0            0     0                 0   \n",
       "1               0         0          0            0     0                 0   \n",
       "2               0         0          0            0     0                 0   \n",
       "3               0         0          0            0     0                 1   \n",
       "\n",
       "   wheezing  withdraw  worry  yellow sputum  \n",
       "0         0         0      0              0  \n",
       "1         0         0      0              0  \n",
       "2         0         0      0              0  \n",
       "3         0         0      0              0  \n",
       "\n",
       "[4 rows x 405 columns]"
      ]
     },
     "execution_count": 3,
     "metadata": {},
     "output_type": "execute_result"
    }
   ],
   "source": [
    "sym_data.head(4)"
   ]
  },
  {
   "cell_type": "code",
   "execution_count": 4,
   "id": "3586c20e",
   "metadata": {},
   "outputs": [],
   "source": [
    "# Import label encoder\n",
    "from sklearn import preprocessing\n",
    "  \n",
    "# label_encoder object knows how to understand word labels.\n",
    "label_encoder = preprocessing.LabelEncoder()\n",
    "  \n",
    "# Encode labels in column 'species'.\n",
    "sym_data['Disease']= label_encoder.fit_transform(sym_data['Disease'])"
   ]
  },
  {
   "cell_type": "code",
   "execution_count": 5,
   "id": "92871ee5",
   "metadata": {},
   "outputs": [
    {
     "data": {
      "text/plain": [
       "Index(['Heberden's node', 'Murphy's sign', 'Stahli's line', 'abdomen acute',\n",
       "       'abdominal bloating', 'abdominal tenderness', 'abnormal sensation',\n",
       "       'abnormally hard consistency', 'abortion', 'abscess bacterial',\n",
       "       ...\n",
       "       'vision blurred', 'vomiting', 'weepiness', 'weight gain', 'welt',\n",
       "       'wheelchair bound', 'wheezing', 'withdraw', 'worry', 'yellow sputum'],\n",
       "      dtype='object', length=404)"
      ]
     },
     "execution_count": 5,
     "metadata": {},
     "output_type": "execute_result"
    }
   ],
   "source": [
    "sym_data = pd.concat([sym_data], ignore_index=True)\n",
    "cols = sym_data.columns\n",
    "cols = cols[1:]\n",
    "cols"
   ]
  },
  {
   "cell_type": "code",
   "execution_count": 6,
   "id": "6f19265f",
   "metadata": {},
   "outputs": [],
   "source": [
    "x = sym_data[cols]\n",
    "y = sym_data['Disease']"
   ]
  },
  {
   "cell_type": "code",
   "execution_count": 7,
   "id": "894bd687",
   "metadata": {},
   "outputs": [],
   "source": [
    "x = x.values.reshape(x.shape[0], x.shape[1], 1)"
   ]
  },
  {
   "cell_type": "markdown",
   "id": "1d12d7c8",
   "metadata": {},
   "source": [
    "# When train size = 80%"
   ]
  },
  {
   "cell_type": "code",
   "execution_count": 8,
   "id": "18b60584",
   "metadata": {},
   "outputs": [],
   "source": [
    "from sklearn.model_selection import train_test_split\n",
    "\n",
    "x_train, x_test, y_train, y_test = train_test_split(x, y, test_size=0.2, random_state=42)"
   ]
  },
  {
   "cell_type": "code",
   "execution_count": 9,
   "id": "44d589cd",
   "metadata": {},
   "outputs": [],
   "source": [
    "from keras.models import Sequential\n",
    "from keras.layers import Dense, Dropout, Flatten, Conv2D, MaxPool2D\n",
    "from keras.optimizers import RMSprop\n",
    "from keras.preprocessing.image import ImageDataGenerator\n",
    "from keras.callbacks import ReduceLROnPlateau\n",
    "from keras.layers import Activation, Dense\n",
    "from keras.layers import concatenate\n",
    "import tensorflow as tf\n",
    "from keras import models\n",
    "from keras import layers\n",
    "from keras.optimizers import Adam,RMSprop\n",
    "from keras.callbacks import EarlyStopping\n",
    "from sklearn.metrics import precision_score\n",
    "from sklearn.metrics import recall_score\n",
    "from sklearn.metrics import f1_score\n",
    "from sklearn.metrics import confusion_matrix\n",
    "from sklearn.metrics import confusion_matrix,classification_report,accuracy_score"
   ]
  },
  {
   "cell_type": "code",
   "execution_count": 10,
   "id": "722287f4",
   "metadata": {},
   "outputs": [],
   "source": [
    "hyb = models.Sequential()\n",
    "hyb.add(layers.Conv1D(256,4,activation='relu',input_shape=(404,1)))\n",
    "hyb.add(layers.MaxPool1D(pool_size = 8))\n",
    "hyb.add(layers.Bidirectional(layers.LSTM(64)))\n",
    "hyb.add(layers.Dense(149,activation='softmax'))\n",
    "\n",
    "hyb.compile(optimizer=RMSprop(),loss='sparse_categorical_crossentropy',metrics=['acc'])\n"
   ]
  },
  {
   "cell_type": "code",
   "execution_count": 11,
   "id": "f802aaf4",
   "metadata": {},
   "outputs": [
    {
     "name": "stdout",
     "output_type": "stream",
     "text": [
      "Epoch 1/20\n",
      "745/745 [==============================] - 49s 61ms/step - loss: 2.6624 - acc: 0.4599 - val_loss: 1.3049 - val_acc: 0.7055\n",
      "Epoch 2/20\n",
      "745/745 [==============================] - 50s 67ms/step - loss: 0.8190 - acc: 0.7936 - val_loss: 0.5289 - val_acc: 0.8517\n",
      "Epoch 3/20\n",
      "745/745 [==============================] - 48s 64ms/step - loss: 0.4138 - acc: 0.8681 - val_loss: 0.3145 - val_acc: 0.8795\n",
      "Epoch 4/20\n",
      "745/745 [==============================] - 43s 57ms/step - loss: 0.2769 - acc: 0.8856 - val_loss: 0.2322 - val_acc: 0.8851\n",
      "Epoch 5/20\n",
      "745/745 [==============================] - 42s 56ms/step - loss: 0.2212 - acc: 0.8890 - val_loss: 0.2135 - val_acc: 0.8837\n",
      "Epoch 6/20\n",
      "745/745 [==============================] - 42s 57ms/step - loss: 0.1989 - acc: 0.8916 - val_loss: 0.1941 - val_acc: 0.8871\n",
      "Epoch 7/20\n",
      "745/745 [==============================] - 43s 58ms/step - loss: 0.1882 - acc: 0.8914 - val_loss: 0.1858 - val_acc: 0.8898\n",
      "Epoch 8/20\n",
      "745/745 [==============================] - 46s 62ms/step - loss: 0.1811 - acc: 0.8917 - val_loss: 0.1853 - val_acc: 0.8918\n",
      "Epoch 9/20\n",
      "745/745 [==============================] - 44s 59ms/step - loss: 0.1798 - acc: 0.8906 - val_loss: 0.1765 - val_acc: 0.8908\n",
      "Epoch 10/20\n",
      "745/745 [==============================] - 44s 59ms/step - loss: 0.1768 - acc: 0.8935 - val_loss: 0.1680 - val_acc: 0.8913\n",
      "Epoch 11/20\n",
      "745/745 [==============================] - 46s 61ms/step - loss: 0.1755 - acc: 0.8927 - val_loss: 0.1751 - val_acc: 0.8921\n",
      "Epoch 12/20\n",
      "745/745 [==============================] - 45s 60ms/step - loss: 0.1732 - acc: 0.8940 - val_loss: 0.1831 - val_acc: 0.8904\n",
      "Epoch 13/20\n",
      "745/745 [==============================] - 43s 58ms/step - loss: 0.1745 - acc: 0.8922 - val_loss: 0.1691 - val_acc: 0.8881\n",
      "Epoch 14/20\n",
      "745/745 [==============================] - 42s 57ms/step - loss: 0.1730 - acc: 0.8945 - val_loss: 0.1748 - val_acc: 0.8871\n",
      "Epoch 15/20\n",
      "745/745 [==============================] - 44s 59ms/step - loss: 0.1719 - acc: 0.8941 - val_loss: 0.1732 - val_acc: 0.8904\n",
      "Epoch 16/20\n",
      "745/745 [==============================] - 47s 63ms/step - loss: 0.1716 - acc: 0.8948 - val_loss: 0.1709 - val_acc: 0.8908\n",
      "Epoch 17/20\n",
      "745/745 [==============================] - 44s 59ms/step - loss: 0.1713 - acc: 0.8961 - val_loss: 0.1740 - val_acc: 0.8896\n",
      "Epoch 18/20\n",
      "745/745 [==============================] - 45s 60ms/step - loss: 0.1711 - acc: 0.8936 - val_loss: 0.1822 - val_acc: 0.8866\n",
      "Epoch 19/20\n",
      "745/745 [==============================] - 44s 59ms/step - loss: 0.1701 - acc: 0.8930 - val_loss: 0.1811 - val_acc: 0.8879\n",
      "Epoch 20/20\n",
      "745/745 [==============================] - 47s 63ms/step - loss: 0.1701 - acc: 0.8920 - val_loss: 0.1699 - val_acc: 0.8918\n"
     ]
    }
   ],
   "source": [
    "history_hybrid=hyb.fit(x_train,y_train,epochs=20,validation_data=(x_test,y_test))"
   ]
  },
  {
   "cell_type": "code",
   "execution_count": 12,
   "id": "89209848",
   "metadata": {},
   "outputs": [
    {
     "name": "stdout",
     "output_type": "stream",
     "text": [
      "745/745 [==============================] - 17s 23ms/step - loss: 0.1650 - acc: 0.8970\n",
      "Loss: 0.16497382521629333  Accuracy: 0.8970218300819397\n"
     ]
    }
   ],
   "source": [
    "acc = hyb.evaluate(x_train, y_train)\n",
    "print(\"Loss:\", acc[0], \" Accuracy:\", acc[1])"
   ]
  },
  {
   "cell_type": "code",
   "execution_count": 13,
   "id": "f9d8891a",
   "metadata": {},
   "outputs": [
    {
     "name": "stdout",
     "output_type": "stream",
     "text": [
      "187/187 [==============================] - 4s 23ms/step - loss: 0.1699 - acc: 0.8918\n",
      "Loss: 0.16992969810962677  Accuracy: 0.8917785286903381\n"
     ]
    }
   ],
   "source": [
    "acc = hyb.evaluate(x_test, y_test)\n",
    "print(\"Loss:\", acc[0], \" Accuracy:\", acc[1])"
   ]
  },
  {
   "cell_type": "markdown",
   "id": "5c878eca",
   "metadata": {},
   "source": [
    "# When train size=75%"
   ]
  },
  {
   "cell_type": "code",
   "execution_count": 10,
   "id": "e9389bae",
   "metadata": {},
   "outputs": [
    {
     "name": "stdout",
     "output_type": "stream",
     "text": [
      "Epoch 1/20\n",
      "699/699 [==============================] - 52s 67ms/step - loss: 2.6370 - acc: 0.4694 - val_loss: 1.2991 - val_acc: 0.7121\n",
      "Epoch 2/20\n",
      "699/699 [==============================] - 46s 66ms/step - loss: 0.8571 - acc: 0.7855 - val_loss: 0.5978 - val_acc: 0.8303\n",
      "Epoch 3/20\n",
      "699/699 [==============================] - 49s 70ms/step - loss: 0.4435 - acc: 0.8652 - val_loss: 0.4295 - val_acc: 0.8546\n",
      "Epoch 4/20\n",
      "699/699 [==============================] - 59s 85ms/step - loss: 0.2912 - acc: 0.8844 - val_loss: 0.2623 - val_acc: 0.8859\n",
      "Epoch 5/20\n",
      "699/699 [==============================] - 54s 77ms/step - loss: 0.2286 - acc: 0.8919 - val_loss: 0.2477 - val_acc: 0.8872\n",
      "Epoch 6/20\n",
      "699/699 [==============================] - 47s 67ms/step - loss: 0.2025 - acc: 0.8933 - val_loss: 0.2071 - val_acc: 0.8879\n",
      "Epoch 7/20\n",
      "699/699 [==============================] - 45s 64ms/step - loss: 0.1886 - acc: 0.8939 - val_loss: 0.1891 - val_acc: 0.8886\n",
      "Epoch 8/20\n",
      "699/699 [==============================] - 43s 62ms/step - loss: 0.1828 - acc: 0.8903 - val_loss: 0.1785 - val_acc: 0.8919\n",
      "Epoch 9/20\n",
      "699/699 [==============================] - 44s 63ms/step - loss: 0.1803 - acc: 0.8917 - val_loss: 0.1844 - val_acc: 0.8879\n",
      "Epoch 10/20\n",
      "699/699 [==============================] - 46s 66ms/step - loss: 0.1777 - acc: 0.8938 - val_loss: 0.1810 - val_acc: 0.8938\n",
      "Epoch 11/20\n",
      "699/699 [==============================] - 44s 64ms/step - loss: 0.1756 - acc: 0.8916 - val_loss: 0.1751 - val_acc: 0.8903\n",
      "Epoch 12/20\n",
      "699/699 [==============================] - 45s 64ms/step - loss: 0.1757 - acc: 0.8927 - val_loss: 0.1778 - val_acc: 0.8905\n",
      "Epoch 13/20\n",
      "699/699 [==============================] - 43s 62ms/step - loss: 0.1743 - acc: 0.8965 - val_loss: 0.1775 - val_acc: 0.8886\n",
      "Epoch 14/20\n",
      "699/699 [==============================] - 43s 62ms/step - loss: 0.1730 - acc: 0.8933 - val_loss: 0.1766 - val_acc: 0.8898\n",
      "Epoch 15/20\n",
      "699/699 [==============================] - 43s 62ms/step - loss: 0.1727 - acc: 0.8937 - val_loss: 0.1760 - val_acc: 0.8898\n",
      "Epoch 16/20\n",
      "699/699 [==============================] - 43s 62ms/step - loss: 0.1714 - acc: 0.8975 - val_loss: 0.1730 - val_acc: 0.8887\n",
      "Epoch 17/20\n",
      "699/699 [==============================] - 43s 62ms/step - loss: 0.1707 - acc: 0.8953 - val_loss: 0.1735 - val_acc: 0.8938\n",
      "Epoch 18/20\n",
      "699/699 [==============================] - 44s 63ms/step - loss: 0.1722 - acc: 0.8932 - val_loss: 0.1739 - val_acc: 0.8894\n",
      "Epoch 19/20\n",
      "699/699 [==============================] - 44s 63ms/step - loss: 0.1711 - acc: 0.8947 - val_loss: 0.1788 - val_acc: 0.8871\n",
      "Epoch 20/20\n",
      "699/699 [==============================] - 46s 66ms/step - loss: 0.1713 - acc: 0.8937 - val_loss: 0.1704 - val_acc: 0.8894\n"
     ]
    }
   ],
   "source": [
    "x_train, x_test, y_train, y_test = train_test_split(x, y, test_size=0.25, random_state=42)\n",
    "hyb = models.Sequential()\n",
    "hyb.add(layers.Conv1D(256,4,activation='relu',input_shape=(404,1)))\n",
    "hyb.add(layers.MaxPool1D(pool_size = 8))\n",
    "hyb.add(layers.Bidirectional(layers.LSTM(64)))\n",
    "hyb.add(layers.Dense(149,activation='softmax'))\n",
    "hyb.compile(optimizer=RMSprop(),loss='sparse_categorical_crossentropy',metrics=['acc'])\n",
    "history_hybrid=hyb.fit(x_train,y_train,epochs=20,validation_data=(x_test,y_test))"
   ]
  },
  {
   "cell_type": "code",
   "execution_count": 11,
   "id": "d73815be",
   "metadata": {},
   "outputs": [
    {
     "name": "stdout",
     "output_type": "stream",
     "text": [
      "699/699 [==============================] - 16s 23ms/step - loss: 0.1653 - acc: 0.8982\n",
      "Loss: 0.1653469353914261  Accuracy: 0.8981655240058899\n"
     ]
    }
   ],
   "source": [
    "acc = hyb.evaluate(x_train, y_train)\n",
    "print(\"Loss:\", acc[0], \" Accuracy:\", acc[1])"
   ]
  },
  {
   "cell_type": "code",
   "execution_count": 12,
   "id": "4c1e40f9",
   "metadata": {},
   "outputs": [
    {
     "name": "stdout",
     "output_type": "stream",
     "text": [
      "233/233 [==============================] - 5s 20ms/step - loss: 0.1704 - acc: 0.8894\n",
      "Loss: 0.17038653790950775  Accuracy: 0.8893959522247314\n"
     ]
    }
   ],
   "source": [
    "acc = hyb.evaluate(x_test, y_test)\n",
    "print(\"Loss:\", acc[0], \" Accuracy:\", acc[1])"
   ]
  },
  {
   "cell_type": "markdown",
   "id": "ebfc52a3",
   "metadata": {},
   "source": [
    "# When train size = =70%"
   ]
  },
  {
   "cell_type": "code",
   "execution_count": 14,
   "id": "2b71c39c",
   "metadata": {},
   "outputs": [
    {
     "name": "stdout",
     "output_type": "stream",
     "text": [
      "Epoch 1/20\n",
      "652/652 [==============================] - 50s 69ms/step - loss: 2.9124 - acc: 0.4124 - val_loss: 1.5543 - val_acc: 0.6612\n",
      "Epoch 2/20\n",
      "652/652 [==============================] - 42s 64ms/step - loss: 1.0408 - acc: 0.7531 - val_loss: 0.7235 - val_acc: 0.8021\n",
      "Epoch 3/20\n",
      "652/652 [==============================] - 41s 63ms/step - loss: 0.5381 - acc: 0.8429 - val_loss: 0.3969 - val_acc: 0.8664\n",
      "Epoch 4/20\n",
      "652/652 [==============================] - 41s 63ms/step - loss: 0.3363 - acc: 0.8795 - val_loss: 0.2893 - val_acc: 0.8789\n",
      "Epoch 5/20\n",
      "652/652 [==============================] - 41s 63ms/step - loss: 0.2515 - acc: 0.8907 - val_loss: 0.2306 - val_acc: 0.8864\n",
      "Epoch 6/20\n",
      "652/652 [==============================] - 44s 67ms/step - loss: 0.2173 - acc: 0.8908 - val_loss: 0.2142 - val_acc: 0.8865\n",
      "Epoch 7/20\n",
      "652/652 [==============================] - 41s 63ms/step - loss: 0.1986 - acc: 0.8912 - val_loss: 0.1957 - val_acc: 0.8891\n",
      "Epoch 8/20\n",
      "652/652 [==============================] - 41s 63ms/step - loss: 0.1890 - acc: 0.8933 - val_loss: 0.1857 - val_acc: 0.8895\n",
      "Epoch 9/20\n",
      "652/652 [==============================] - 42s 64ms/step - loss: 0.1817 - acc: 0.8934 - val_loss: 0.1838 - val_acc: 0.8925\n",
      "Epoch 10/20\n",
      "652/652 [==============================] - 41s 63ms/step - loss: 0.1785 - acc: 0.8955 - val_loss: 0.1802 - val_acc: 0.8906\n",
      "Epoch 11/20\n",
      "652/652 [==============================] - 41s 64ms/step - loss: 0.1792 - acc: 0.8961 - val_loss: 0.1840 - val_acc: 0.8935\n",
      "Epoch 12/20\n",
      "652/652 [==============================] - 41s 64ms/step - loss: 0.1747 - acc: 0.8925 - val_loss: 0.1837 - val_acc: 0.8907\n",
      "Epoch 13/20\n",
      "652/652 [==============================] - 42s 64ms/step - loss: 0.1737 - acc: 0.8952 - val_loss: 0.1826 - val_acc: 0.8889\n",
      "Epoch 14/20\n",
      "652/652 [==============================] - 42s 64ms/step - loss: 0.1732 - acc: 0.8951 - val_loss: 0.1797 - val_acc: 0.8896\n",
      "Epoch 15/20\n",
      "652/652 [==============================] - 42s 64ms/step - loss: 0.1734 - acc: 0.8922 - val_loss: 0.1718 - val_acc: 0.8919\n",
      "Epoch 16/20\n",
      "652/652 [==============================] - 42s 65ms/step - loss: 0.1721 - acc: 0.8943 - val_loss: 0.1783 - val_acc: 0.8911\n",
      "Epoch 17/20\n",
      "652/652 [==============================] - 42s 64ms/step - loss: 0.1719 - acc: 0.8947 - val_loss: 0.1765 - val_acc: 0.8896\n",
      "Epoch 18/20\n",
      "652/652 [==============================] - 42s 64ms/step - loss: 0.1713 - acc: 0.8966 - val_loss: 0.1766 - val_acc: 0.8876\n",
      "Epoch 19/20\n",
      "652/652 [==============================] - 43s 66ms/step - loss: 0.1694 - acc: 0.8962 - val_loss: 0.1830 - val_acc: 0.8890\n",
      "Epoch 20/20\n",
      "652/652 [==============================] - 43s 66ms/step - loss: 0.1697 - acc: 0.8941 - val_loss: 0.1791 - val_acc: 0.8907\n"
     ]
    }
   ],
   "source": [
    "x_train, x_test, y_train, y_test = train_test_split(x, y, test_size=0.30, random_state=42)\n",
    "hyb = models.Sequential()\n",
    "hyb.add(layers.Conv1D(256,4,activation='relu',input_shape=(404,1)))\n",
    "hyb.add(layers.MaxPool1D(pool_size = 8))\n",
    "hyb.add(layers.Bidirectional(layers.LSTM(64)))\n",
    "hyb.add(layers.Dense(149,activation='softmax'))\n",
    "hyb.compile(optimizer=RMSprop(),loss='sparse_categorical_crossentropy',metrics=['acc'])\n",
    "history_hybrid=hyb.fit(x_train,y_train,epochs=20,validation_data=(x_test,y_test))"
   ]
  },
  {
   "cell_type": "code",
   "execution_count": 15,
   "id": "23d1776c",
   "metadata": {},
   "outputs": [
    {
     "name": "stdout",
     "output_type": "stream",
     "text": [
      "652/652 [==============================] - 13s 19ms/step - loss: 0.1699 - acc: 0.8963\n",
      "Loss: 0.16985033452510834  Accuracy: 0.8963087201118469\n"
     ]
    }
   ],
   "source": [
    "acc = hyb.evaluate(x_train, y_train)\n",
    "print(\"Loss:\", acc[0], \" Accuracy:\", acc[1])"
   ]
  },
  {
   "cell_type": "code",
   "execution_count": 16,
   "id": "dac2db0f",
   "metadata": {},
   "outputs": [
    {
     "name": "stdout",
     "output_type": "stream",
     "text": [
      "280/280 [==============================] - 6s 20ms/step - loss: 0.1791 - acc: 0.8907\n",
      "Loss: 0.17912618815898895  Accuracy: 0.8907158970832825\n"
     ]
    }
   ],
   "source": [
    "acc = hyb.evaluate(x_test, y_test)\n",
    "print(\"Loss:\", acc[0], \" Accuracy:\", acc[1])"
   ]
  }
 ],
 "metadata": {
  "kernelspec": {
   "display_name": "Python 3 (ipykernel)",
   "language": "python",
   "name": "python3"
  },
  "language_info": {
   "codemirror_mode": {
    "name": "ipython",
    "version": 3
   },
   "file_extension": ".py",
   "mimetype": "text/x-python",
   "name": "python",
   "nbconvert_exporter": "python",
   "pygments_lexer": "ipython3",
   "version": "3.9.7"
  }
 },
 "nbformat": 4,
 "nbformat_minor": 5
}
